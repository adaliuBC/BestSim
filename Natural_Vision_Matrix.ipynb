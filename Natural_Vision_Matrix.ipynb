{
 "cells": [
  {
   "cell_type": "code",
   "execution_count": 1,
   "id": "consolidated-passion",
   "metadata": {},
   "outputs": [],
   "source": [
    "import numpy as np\n",
    "import math"
   ]
  },
  {
   "cell_type": "code",
   "execution_count": 2,
   "id": "overhead-machine",
   "metadata": {},
   "outputs": [],
   "source": [
    "#RGC matrices\n",
    "on_parasol_responses = np.zeros((32,32))\n",
    "#on_parasol_positions = np.zeros((2*28,16,2))\n",
    "\n",
    "\n",
    "#Bipolar matrices\n",
    "on_parasol_bipolar_responses = np.zeros((256,256))\n",
    "#on_parasol_bipolar_positions = np.zeros((2*256,128,2)) #256 cols in a hex grid means 256 staggered cols = 128 straight cols\n",
    "\n",
    "\n",
    "#Cone matrices 512x512 area with 2 micron pitch, same spacing as bipolars, for now we'll place all 3 cones\n",
    "#in the same spot since they all feed directly into each bipolar\n",
    "cone_responses = np.zeros((256,256))\n",
    "#L_cone_positions = np.zeros((2*256,128,2)) #256 cols in a hex grid means 256 staggered cols = 128 straight cols"
   ]
  },
  {
   "cell_type": "code",
   "execution_count": 3,
   "id": "seeing-eating",
   "metadata": {},
   "outputs": [
    {
     "data": {
      "text/plain": [
       "array([[3.25997649e-05, 7.69014983e-05, 1.39112588e-05, ...,\n",
       "        9.77409684e-05, 1.45507561e-06, 3.55881642e-05],\n",
       "       [1.61972536e-05, 4.17910831e-06, 5.18562622e-05, ...,\n",
       "        6.42064036e-05, 4.95178039e-05, 1.21466324e-05],\n",
       "       [1.45091134e-05, 2.85134642e-05, 1.67444811e-05, ...,\n",
       "        3.26888849e-05, 2.11754463e-05, 4.63074170e-05],\n",
       "       ...,\n",
       "       [1.27826814e-05, 8.83093381e-05, 8.23157845e-05, ...,\n",
       "        2.68787783e-05, 1.72809421e-05, 1.58729879e-05],\n",
       "       [4.40677981e-05, 6.86734016e-05, 6.64776749e-05, ...,\n",
       "        6.32642804e-05, 7.04064501e-05, 7.26822442e-05],\n",
       "       [7.94499896e-05, 9.95548934e-05, 5.27616434e-06, ...,\n",
       "        1.05225756e-05, 2.60436508e-05, 3.72686760e-05]])"
      ]
     },
     "execution_count": 3,
     "metadata": {},
     "output_type": "execute_result"
    }
   ],
   "source": [
    "# get cone responses from image\n",
    "\n",
    "# random data:\n",
    "\n",
    "cone_responses = np.random.rand(256,256) * 0.0001 #lets assume up to response of 0.0001 for now\n",
    "cone_responses"
   ]
  },
  {
   "cell_type": "code",
   "execution_count": 4,
   "id": "sealed-navigation",
   "metadata": {},
   "outputs": [],
   "source": [
    "# get bipolar responses from cone outputs\n",
    "\n",
    "\n",
    "#ignore this, more complicated way of doing this -----------------------------------------------\n",
    "# intermediate matrix (scale up to get connections around bipolar, then scale down by someing over a region)\n",
    "\n",
    "# scaled_up_cones = np.zeros((2816,2816))\n",
    "#scaled_up_radii = np.zeros((2816,2816))\n",
    "#scaled_up_responses = np.zeros((2816,2816))\n",
    "\n",
    "#-----------------------------------------------------------------------------------------------\n",
    "\n",
    "# scale up by 11 (10 microns each axis = 5 neurons each way, this means we have 11x11 cones feeding into each bipolar\n",
    "# including the cone directly on top of the bipolar)\n",
    "\n",
    "def DoG_on_parasol_bipolars(r, amp):\n",
    "    a_cent = 1\n",
    "    a_sur = 0.01\n",
    "    sig_cent = 4\n",
    "    sig_sur = sig_cent * 9\n",
    "    DoG = a_cent * math.e**(-(r**2)/(2*sig_cent**2)) - a_sur * math.e**(-(r**2)/(2*sig_sur**2))\n",
    "    return DoG*amp\n",
    "\n",
    "i=0\n",
    "j=0\n",
    "while(i<np.shape(on_parasol_bipolar_responses)[0]):\n",
    "    while(j<np.shape(on_parasol_bipolar_responses)[1]):\n",
    "        \n",
    "        a_init = 0\n",
    "        b_init = 0\n",
    "        a_max = 11\n",
    "        b_max = 11\n",
    "        \n",
    "        if(j<5):\n",
    "            b_init=5-j #only can go over to 0th col of cones\n",
    "        if(i<5):\n",
    "            a_init=5-i #only can go over to 0th row of cones\n",
    "        if(j>250):\n",
    "            b_max=6+(255-j) #only can go over to 255th col of cones\n",
    "        if(i>250):\n",
    "            a_max=6+(255-i) #only can go over to 255th row of cones\n",
    "        \n",
    "        a=a_init\n",
    "        b=b_init\n",
    "        while(a < a_max):\n",
    "            while(b < b_max):\n",
    "                #scaled_up_radii[i*11+a, j*11+b] = math.sqrt(((a-5)**2) + ((b-5)**2))\n",
    "                \n",
    "                #scale up and get radii:\n",
    "                r = math.sqrt(((a-5)**2) + ((b-5)**2))\n",
    "                \n",
    "                #get scaled up response:\n",
    "                in_resp = cone_responses[i+(a-5),j+(b-5)]\n",
    "                #scaled_up_responses[i*11+a, j*11+b] = DoG_on_parasol_bipolars(r, in_resp)\n",
    "                resp = DoG_on_parasol_bipolars(r, in_resp)\n",
    "                \n",
    "                #scale back down by summing:\n",
    "                #on_parasol_bipolar_responses[i,j] += scaled_up_responses[i*11+a, j*11+b]\n",
    "                on_parasol_bipolar_responses[i,j] += resp\n",
    "                \n",
    "                b+=1\n",
    "            b=b_init\n",
    "            a+=1\n",
    "        \n",
    "        j+=1\n",
    "    j=0\n",
    "    i+=1\n"
   ]
  },
  {
   "cell_type": "code",
   "execution_count": 5,
   "id": "iraqi-birthday",
   "metadata": {},
   "outputs": [],
   "source": [
    "\n",
    "#temporal response\n",
    "\n",
    "\n",
    "#Since golden paper didn't give any information on the temporal filter (and we are using slightly different\n",
    "#temporal modeling with single frame of picture shown then nothing for the rest of the 0.4 s), we will use\n",
    "#exponential decay to model the temporal behavior with the initial value starting at the spacial response\n",
    "#and the decay value to be 50 (0.02s half life of neuron response strength, close to curve of golden\n",
    "#temporal response)\n",
    "\n",
    "#response = init_response * e^(decay_val*t)\n",
    "\n",
    "decay_val = -50\n",
    "\n",
    "\n",
    "#on parasol temporal:\n",
    "\n",
    "initial_on_parasol_bipolar_responses = np.copy(on_parasol_bipolar_responses)\n",
    "\n",
    "t=0.001 #time steps of 0.001s (400 time periods)\n",
    "while t<0.4: #simulate 0.4s like golden paper did\n",
    "    i=0\n",
    "    j=0\n",
    "    while(i<np.shape(on_parasol_bipolar_responses)[0]):\n",
    "        while(j<np.shape(on_parasol_bipolar_responses)[1]):\n",
    "            #calculate current time's temporal response value with exponential decay equation, then add it\n",
    "            #to the overall bipolar response\n",
    "            \n",
    "            init_response = initial_on_parasol_bipolar_responses[i,j]\n",
    "            \n",
    "            response = init_response * math.e**(decay_val*t)\n",
    "            \n",
    "            on_parasol_bipolar_responses[i,j] += response #sum over temporal response for each neuron\n",
    "            \n",
    "            j+=1\n",
    "        i+=1\n",
    "    \n",
    "    t+=0.001\n"
   ]
  },
  {
   "cell_type": "code",
   "execution_count": 6,
   "id": "significant-african",
   "metadata": {},
   "outputs": [],
   "source": [
    "# get rgc responses from bipolars\n",
    "\n",
    "\n",
    "\n",
    "# scale up by 32 from rgc matrix (need 25 microns/axis ~12 neurons each way, means we have 25x25 bipolars feeding each\n",
    "# rgc including the bipolar directly on top of the rgc)\n",
    "# we need our scaling factor to be a multiple of 4 though (which ignores symmetry), so we will scale by 32x32\n",
    "# so that despite assymetry, the value we are losing are essentially 0\n",
    "\n",
    "def DoG_on_parasol(r, amp):\n",
    "    a_cent = 1\n",
    "    a_sur = 0.375\n",
    "    sig_cent = 10\n",
    "    sig_sur = sig_cent * 1.15\n",
    "    DoG = a_cent * math.e**(-(r**2)/(2*sig_cent**2)) - a_sur * math.e**(-(r**2)/(2*sig_sur**2))\n",
    "    return DoG*amp\n",
    "\n",
    "i=0\n",
    "j=0\n",
    "while(i<np.shape(on_parasol_responses)[0]):\n",
    "    while(j<np.shape(on_parasol_responses)[1]):\n",
    "        \n",
    "        a_init = 0\n",
    "        b_init = 0\n",
    "        a_max = 32\n",
    "        b_max = 32\n",
    "        \n",
    "        if(j*4<16):\n",
    "            b_init=16-j*4 #only can go over to 0th col of bipolars\n",
    "        if(i*4<16):\n",
    "            a_init=16-i*4 #only can go over to 0th row of bipolars\n",
    "        if(j*4>239):\n",
    "            b_max=16+(255-j*4) #only can go over to 255th col of bipolars\n",
    "        if(i*4>239):\n",
    "            a_max=16+(255-i*4) #only can go over to 255th row of bipolars\n",
    "        \n",
    "        a=a_init\n",
    "        b=b_init\n",
    "        while(a < a_max):\n",
    "            while(b < b_max):\n",
    "                \n",
    "                #scale up and get radii:\n",
    "                r = math.sqrt(((a-16)**2) + ((b-16)**2))\n",
    "                \n",
    "                #get scaled up response:\n",
    "                in_resp = on_parasol_bipolar_responses[i*4+(a-16),j*4+(b-16)]\n",
    "                resp = DoG_on_parasol(r, in_resp)\n",
    "                \n",
    "                #scale baack down by summing:\n",
    "                on_parasol_responses[i,j] += resp\n",
    "                \n",
    "                b+=1\n",
    "            b=b_init\n",
    "            a+=1\n",
    "        \n",
    "        j+=1\n",
    "    j=0\n",
    "    i+=1\n"
   ]
  },
  {
   "cell_type": "code",
   "execution_count": 7,
   "id": "invalid-definition",
   "metadata": {},
   "outputs": [
    {
     "data": {
      "text/plain": [
       "array([[0.42868768, 0.59404242, 0.73666874, ..., 0.97117174, 0.98630616,\n",
       "        0.99846976],\n",
       "       [0.48775979, 0.67500045, 0.83633207, ..., 1.11356598, 1.12879331,\n",
       "        1.14012849],\n",
       "       [0.50404068, 0.69777873, 0.86473928, ..., 1.15981148, 1.17342159,\n",
       "        1.18253874],\n",
       "       ...,\n",
       "       [0.45867358, 0.64361889, 0.79933526, ..., 0.94914099, 0.94963153,\n",
       "        0.95353075],\n",
       "       [0.45350856, 0.63735986, 0.7921285 , ..., 0.94443064, 0.9476079 ,\n",
       "        0.95535144],\n",
       "       [0.45088158, 0.63418908, 0.78854426, ..., 0.9417008 , 0.94791407,\n",
       "        0.95968579]])"
      ]
     },
     "execution_count": 7,
     "metadata": {},
     "output_type": "execute_result"
    }
   ],
   "source": [
    "on_parasol_responses"
   ]
  },
  {
   "cell_type": "code",
   "execution_count": 8,
   "id": "federal-calibration",
   "metadata": {},
   "outputs": [],
   "source": [
    "#convert response to firing rate\n",
    "\n",
    "\n",
    "#go through all rgc responses and convert response to firing rate\n",
    "\n",
    "#-----------------------------------------------------------------------------------------------\n",
    "#important: adjust the exponential function later once voltages are adjusted\n",
    "\n",
    "#we'll use an exponential function to get spike rate from rgc response (golden got this from pillow et al 2008)\n",
    "#large rgc response is 1.1, so exponential goes from e^0=1 to e^1.2=3.00\n",
    "#6 Hz seems to be a large neuron firing rate for an RGC (from other studies), so we'll use this as max_rate\n",
    "#exponential function: firing_rate = max_rate*((e^(response)-1)/2.00)\n",
    "#subtract 1 from exponential so we have values starting from 0 to 2.00, divide by 2.00 and multiply by max rate so\n",
    "#large responses will be about equal to our inputted max firing rate (maybe slightly larger)\n",
    "\n",
    "max_rate = 6 #6Hz seems to be a very large RGC firing rate\n",
    "\n",
    "#hopefully the learned reconstruction matrix will be able to compensate for any differences we've made in\n",
    "#our equations (as long as we use the same equations here and in learning)\n",
    "\n",
    "\n",
    "#on parasol rgcs:\n",
    "\n",
    "i=0\n",
    "j=0\n",
    "while(i<np.shape(on_parasol_responses)[0]):\n",
    "    while(j<np.shape(on_parasol_responses)[1]):\n",
    "        response = on_parasol_responses[i,j]\n",
    "        \n",
    "        firing_rate = max_rate*((math.e**(response)-1)/2)\n",
    "        \n",
    "        if(firing_rate < 0):\n",
    "            firing_rate = 0\n",
    "        \n",
    "        on_parasol_responses[i,j] = firing_rate\n",
    "        \n",
    "        j+=1\n",
    "    j=0\n",
    "    i+=1\n",
    "\n"
   ]
  },
  {
   "cell_type": "code",
   "execution_count": 9,
   "id": "strange-superior",
   "metadata": {},
   "outputs": [
    {
     "data": {
      "text/plain": [
       "array([[1.60572444, 2.43388699, 3.26689506, ..., 4.92311174, 5.04393544,\n",
       "        5.14237614],\n",
       "       [1.88599073, 2.89210161, 3.92365879, ..., 6.13559452, 6.2757698 ,\n",
       "        6.38151048],\n",
       "       [1.96619009, 3.02785376, 4.12316085, ..., 6.56799586, 6.69910762,\n",
       "        6.78794014],\n",
       "       ...,\n",
       "       [1.74592271, 2.7100694 , 3.67218601, ..., 4.75046839, 4.75427123,\n",
       "        4.78456588],\n",
       "       [1.72147309, 2.6744415 , 3.62427402, ..., 4.71404684, 4.73859535,\n",
       "        4.79875208],\n",
       "       [1.70908615, 2.65647764, 3.60057359, ..., 4.69301742, 4.74096498,\n",
       "        4.83262791]])"
      ]
     },
     "execution_count": 9,
     "metadata": {},
     "output_type": "execute_result"
    }
   ],
   "source": [
    "on_parasol_responses"
   ]
  },
  {
   "cell_type": "code",
   "execution_count": null,
   "id": "dated-south",
   "metadata": {},
   "outputs": [],
   "source": []
  },
  {
   "cell_type": "code",
   "execution_count": null,
   "id": "careful-coordinator",
   "metadata": {},
   "outputs": [],
   "source": []
  },
  {
   "cell_type": "code",
   "execution_count": 7,
   "id": "invisible-conclusion",
   "metadata": {},
   "outputs": [
    {
     "name": "stdout",
     "output_type": "stream",
     "text": [
      "(256, 256)\n"
     ]
    }
   ],
   "source": [
    "# get downloaded images from imagenet\n",
    "\n",
    "import cv2\n",
    "path = 'C:/Users/rhyst/Downloads/'\n",
    "name = 'test_image.png'\n",
    "image = cv2.imread(path+name, cv2.IMREAD_GRAYSCALE)"
   ]
  },
  {
   "cell_type": "code",
   "execution_count": 8,
   "id": "b66e6ea7",
   "metadata": {},
   "outputs": [
    {
     "data": {
      "image/png": "[encoded data removed]",
      "text/plain": [
       "<Figure size 432x288 with 1 Axes>"
      ]
     },
     "metadata": {
      "needs_background": "light"
     },
     "output_type": "display_data"
    }
   ],
   "source": [
    "from matplotlib import pyplot as plt\n",
    "plt.imshow(image, cmap='gray')\n",
    "plt.title('test_image')\n",
    "plt.show()"
   ]
  },
  {
   "cell_type": "code",
   "execution_count": null,
   "id": "6a089d27",
   "metadata": {},
   "outputs": [],
   "source": [
    "# largest grayscale value is 255, we want the largest value to be at most 0.0001,\n",
    "# set cone_responses to be image*(0.0001/255)"
   ]
  },
  {
   "cell_type": "code",
   "execution_count": null,
   "id": "fossil-underwear",
   "metadata": {},
   "outputs": [],
   "source": []
  },
  {
   "cell_type": "code",
   "execution_count": null,
   "id": "floppy-lecture",
   "metadata": {},
   "outputs": [],
   "source": []
  },
  {
   "cell_type": "raw",
   "id": "supreme-planner",
   "metadata": {},
   "source": [
    "# apply difference of gaussians to scaled up matrix\n",
    "\n",
    "def DoG_on_parasol_bipolars(r, amp):\n",
    "    a_cent = 1\n",
    "    a_sur = 0.01\n",
    "    sig_cent = 4\n",
    "    sig_sur = sig_cent * 9\n",
    "    DoG = a_cent * math.e**(-(r**2)/(2*sig_cent**2)) - a_sur * math.e**(-(r**2)/(2*sig_sur**2))\n",
    "    return DoG*amp\n",
    "\n",
    "scaled_up_responses = np.zeros((2816,2816))\n",
    "\n",
    "i=0\n",
    "j=0\n",
    "while(i<np.shape(on_parasol_bipolar_responses)[0]):\n",
    "    while(j<np.shape(on_parasol_bipolar_responses)[1]):\n",
    "        \n",
    "        a_init = 0\n",
    "        b_init = 0\n",
    "        a_max = 11\n",
    "        b_max = 11\n",
    "        \n",
    "        if(j<5):\n",
    "            b_init=5-j #only can go over to 0th col of cones\n",
    "        if(i<5):\n",
    "            a_init=5-i #only can go over to 0th row of cones\n",
    "        if(j>250):\n",
    "            b_max=6+(255-j) #only can go over to 255th col of cones\n",
    "        if(i>250):\n",
    "            a_max=6+(255-i) #only can go over to 255th row of cones\n",
    "        \n",
    "        a=a_init\n",
    "        b=b_init\n",
    "        while(a < a_max):\n",
    "            while(b < b_max):\n",
    "                in_resp = cone_responses[i+(a-5),j+(b-5)]\n",
    "                scaled_up_responses[i*11+a, j*11+b] = DoG_on_parasol_bipolars(scaled_up_radii[i*11+a, j*11+b], in_resp)\n",
    "                \n",
    "                b+=1\n",
    "            b=b_init\n",
    "            a+=1\n",
    "        \n",
    "        j+=1\n",
    "    j=0\n",
    "    i+=1\n",
    "\n",
    "#scaled_up_responses = DoG_on_parasol_bipolars(scaled_up_radii)"
   ]
  },
  {
   "cell_type": "raw",
   "id": "historical-newsletter",
   "metadata": {},
   "source": [
    "#scale back down\n",
    "\n",
    "i=0\n",
    "j=0\n",
    "while(i<np.shape(on_parasol_bipolar_responses)[0]):\n",
    "    while(j<np.shape(on_parasol_bipolar_responses)[1]):\n",
    "        \n",
    "        a_init = 0\n",
    "        b_init = 0\n",
    "        a_max = 11\n",
    "        b_max = 11\n",
    "        \n",
    "        if(j<5):\n",
    "            b_init=5-j #only can go over to 0th col of cones\n",
    "        if(i<5):\n",
    "            a_init=5-i #only can go over to 0th row of cones\n",
    "        if(j>250):\n",
    "            b_max=6+(255-j) #only can go over to 255th col of cones\n",
    "        if(i>250):\n",
    "            a_max=6+(255-i) #only can go over to 255th row of cones\n",
    "        \n",
    "        a=a_init\n",
    "        b=b_init\n",
    "        while(a < a_max):\n",
    "            while(b < b_max):\n",
    "                on_parasol_bipolar_responses[i,j] += scaled_up_responses[i*11+a, j*11+b]\n",
    "                \n",
    "                b+=1\n",
    "            b=b_init\n",
    "            a+=1\n",
    "        \n",
    "        j+=1\n",
    "    j=0\n",
    "    i+=1\n"
   ]
  }
 ],
 "metadata": {
  "kernelspec": {
   "display_name": "Python 3 (ipykernel)",
   "language": "python",
   "name": "python3"
  },
  "language_info": {
   "codemirror_mode": {
    "name": "ipython",
    "version": 3
   },
   "file_extension": ".py",
   "mimetype": "text/x-python",
   "name": "python",
   "nbconvert_exporter": "python",
   "pygments_lexer": "ipython3",
   "version": "3.7.4"
  }
 },
 "nbformat": 4,
 "nbformat_minor": 5
}
